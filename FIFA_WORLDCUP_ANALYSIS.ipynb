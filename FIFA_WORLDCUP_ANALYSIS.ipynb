{
 "cells": [
  {
   "cell_type": "code",
   "execution_count": 1,
   "id": "e77e4caa",
   "metadata": {},
   "outputs": [],
   "source": [
    "import numpy as np\n",
    "import pandas as pd"
   ]
  },
  {
   "cell_type": "code",
   "execution_count": 45,
   "id": "594506ad",
   "metadata": {},
   "outputs": [],
   "source": [
    "import matplotlib.pyplot as plt\n",
    "import seaborn as sns"
   ]
  },
  {
   "cell_type": "code",
   "execution_count": 3,
   "id": "05ea95e7",
   "metadata": {},
   "outputs": [],
   "source": [
    "players = pd.read_csv(\"WorldCupPlayers.csv\")\n",
    "matches = pd.read_csv(\"WorldCupMatches.csv\")\n",
    "world_cup = pd.read_csv(\"WorldCups.csv\")"
   ]
  },
  {
   "cell_type": "code",
   "execution_count": 7,
   "id": "6b498ee0",
   "metadata": {},
   "outputs": [
    {
     "data": {
      "text/html": [
       "<div>\n",
       "<style scoped>\n",
       "    .dataframe tbody tr th:only-of-type {\n",
       "        vertical-align: middle;\n",
       "    }\n",
       "\n",
       "    .dataframe tbody tr th {\n",
       "        vertical-align: top;\n",
       "    }\n",
       "\n",
       "    .dataframe thead th {\n",
       "        text-align: right;\n",
       "    }\n",
       "</style>\n",
       "<table border=\"1\" class=\"dataframe\">\n",
       "  <thead>\n",
       "    <tr style=\"text-align: right;\">\n",
       "      <th></th>\n",
       "      <th>Year</th>\n",
       "      <th>Datetime</th>\n",
       "      <th>Stage</th>\n",
       "      <th>Stadium</th>\n",
       "      <th>City</th>\n",
       "      <th>Home Team Name</th>\n",
       "      <th>Home Team Goals</th>\n",
       "      <th>Away Team Goals</th>\n",
       "      <th>Away Team Name</th>\n",
       "      <th>Win conditions</th>\n",
       "      <th>Attendance</th>\n",
       "      <th>Half-time Home Goals</th>\n",
       "      <th>Half-time Away Goals</th>\n",
       "      <th>Referee</th>\n",
       "      <th>Assistant 1</th>\n",
       "      <th>Assistant 2</th>\n",
       "      <th>RoundID</th>\n",
       "      <th>MatchID</th>\n",
       "      <th>Home Team Initials</th>\n",
       "      <th>Away Team Initials</th>\n",
       "    </tr>\n",
       "  </thead>\n",
       "  <tbody>\n",
       "    <tr>\n",
       "      <th>104</th>\n",
       "      <td>1958</td>\n",
       "      <td>08 Jun 1958 - 19:00</td>\n",
       "      <td>Group 3</td>\n",
       "      <td>Jarnvallen</td>\n",
       "      <td>Sandviken</td>\n",
       "      <td>Hungary</td>\n",
       "      <td>1</td>\n",
       "      <td>1</td>\n",
       "      <td>Wales</td>\n",
       "      <td></td>\n",
       "      <td>15343.0</td>\n",
       "      <td>1</td>\n",
       "      <td>1</td>\n",
       "      <td>CODESAL Jose Maria (URU)</td>\n",
       "      <td>LEMESIC Leo (YUG)</td>\n",
       "      <td>VAN NUFFEL Lucien (BEL)</td>\n",
       "      <td>220</td>\n",
       "      <td>1407</td>\n",
       "      <td>HUN</td>\n",
       "      <td>WAL</td>\n",
       "    </tr>\n",
       "    <tr>\n",
       "      <th>225</th>\n",
       "      <td>1970</td>\n",
       "      <td>14 Jun 1970 - 12:00</td>\n",
       "      <td>Quarter-finals</td>\n",
       "      <td>Nou Camp - Estadio Le�n</td>\n",
       "      <td>Leon</td>\n",
       "      <td>Germany FR</td>\n",
       "      <td>3</td>\n",
       "      <td>2</td>\n",
       "      <td>England</td>\n",
       "      <td>Germany FR win after extra time</td>\n",
       "      <td>23357.0</td>\n",
       "      <td>0</td>\n",
       "      <td>0</td>\n",
       "      <td>COEREZZA Norberto Angel (ARG)</td>\n",
       "      <td>VELASQUEZ Guillermo (COL)</td>\n",
       "      <td>ORTIZ DE MENDIBIL Jose Maria (ESP)</td>\n",
       "      <td>251</td>\n",
       "      <td>1811</td>\n",
       "      <td>FRG</td>\n",
       "      <td>ENG</td>\n",
       "    </tr>\n",
       "    <tr>\n",
       "      <th>822</th>\n",
       "      <td>2014</td>\n",
       "      <td>30 Jun 2014 - 13:00</td>\n",
       "      <td>Round of 16</td>\n",
       "      <td>Estadio Nacional</td>\n",
       "      <td>Brasilia</td>\n",
       "      <td>France</td>\n",
       "      <td>2</td>\n",
       "      <td>0</td>\n",
       "      <td>Nigeria</td>\n",
       "      <td></td>\n",
       "      <td>67882.0</td>\n",
       "      <td>0</td>\n",
       "      <td>0</td>\n",
       "      <td>GEIGER Mark (USA)</td>\n",
       "      <td>HURD Sean (USA)</td>\n",
       "      <td>FLETCHER Joe (CAN)</td>\n",
       "      <td>255951</td>\n",
       "      <td>300186462</td>\n",
       "      <td>FRA</td>\n",
       "      <td>NGA</td>\n",
       "    </tr>\n",
       "    <tr>\n",
       "      <th>804</th>\n",
       "      <td>2014</td>\n",
       "      <td>23 Jun 2014 - 13:00</td>\n",
       "      <td>Group B</td>\n",
       "      <td>Arena da Baixada</td>\n",
       "      <td>Curitiba</td>\n",
       "      <td>Australia</td>\n",
       "      <td>0</td>\n",
       "      <td>3</td>\n",
       "      <td>Spain</td>\n",
       "      <td></td>\n",
       "      <td>39375.0</td>\n",
       "      <td>0</td>\n",
       "      <td>1</td>\n",
       "      <td>SHUKRALLA Nawaf (BHR)</td>\n",
       "      <td>TULEFAT Yaser (BHR)</td>\n",
       "      <td>SALEH Ebrahim (BHR)</td>\n",
       "      <td>255931</td>\n",
       "      <td>300186467</td>\n",
       "      <td>AUS</td>\n",
       "      <td>ESP</td>\n",
       "    </tr>\n",
       "    <tr>\n",
       "      <th>651</th>\n",
       "      <td>2006</td>\n",
       "      <td>11 Jun 2006 - 21:00</td>\n",
       "      <td>Group D</td>\n",
       "      <td>FIFA World Cup Stadium, Cologne</td>\n",
       "      <td>Cologne</td>\n",
       "      <td>Angola</td>\n",
       "      <td>0</td>\n",
       "      <td>1</td>\n",
       "      <td>Portugal</td>\n",
       "      <td></td>\n",
       "      <td>45000.0</td>\n",
       "      <td>0</td>\n",
       "      <td>1</td>\n",
       "      <td>LARRIONDA Jorge (URU)</td>\n",
       "      <td>RIAL Walter (URU)</td>\n",
       "      <td>FANDINO Pablo (URU)</td>\n",
       "      <td>97410100</td>\n",
       "      <td>97410008</td>\n",
       "      <td>ANG</td>\n",
       "      <td>POR</td>\n",
       "    </tr>\n",
       "  </tbody>\n",
       "</table>\n",
       "</div>"
      ],
      "text/plain": [
       "     Year              Datetime           Stage  \\\n",
       "104  1958  08 Jun 1958 - 19:00          Group 3   \n",
       "225  1970  14 Jun 1970 - 12:00   Quarter-finals   \n",
       "822  2014  30 Jun 2014 - 13:00      Round of 16   \n",
       "804  2014  23 Jun 2014 - 13:00          Group B   \n",
       "651  2006  11 Jun 2006 - 21:00          Group D   \n",
       "\n",
       "                             Stadium        City Home Team Name  \\\n",
       "104                       Jarnvallen  Sandviken         Hungary   \n",
       "225          Nou Camp - Estadio Le�n       Leon      Germany FR   \n",
       "822                 Estadio Nacional   Brasilia          France   \n",
       "804                 Arena da Baixada   Curitiba       Australia   \n",
       "651  FIFA World Cup Stadium, Cologne    Cologne          Angola   \n",
       "\n",
       "     Home Team Goals  Away Team Goals Away Team Name  \\\n",
       "104                1                1          Wales   \n",
       "225                3                2        England   \n",
       "822                2                0        Nigeria   \n",
       "804                0                3          Spain   \n",
       "651                0                1       Portugal   \n",
       "\n",
       "                       Win conditions  Attendance  Half-time Home Goals  \\\n",
       "104                                       15343.0                     1   \n",
       "225  Germany FR win after extra time      23357.0                     0   \n",
       "822                                       67882.0                     0   \n",
       "804                                       39375.0                     0   \n",
       "651                                       45000.0                     0   \n",
       "\n",
       "     Half-time Away Goals                        Referee  \\\n",
       "104                     1       CODESAL Jose Maria (URU)   \n",
       "225                     0  COEREZZA Norberto Angel (ARG)   \n",
       "822                     0              GEIGER Mark (USA)   \n",
       "804                     1          SHUKRALLA Nawaf (BHR)   \n",
       "651                     1          LARRIONDA Jorge (URU)   \n",
       "\n",
       "                   Assistant 1                         Assistant 2   RoundID  \\\n",
       "104          LEMESIC Leo (YUG)             VAN NUFFEL Lucien (BEL)       220   \n",
       "225  VELASQUEZ Guillermo (COL)  ORTIZ DE MENDIBIL Jose Maria (ESP)       251   \n",
       "822            HURD Sean (USA)                  FLETCHER Joe (CAN)    255951   \n",
       "804        TULEFAT Yaser (BHR)                 SALEH Ebrahim (BHR)    255931   \n",
       "651          RIAL Walter (URU)                 FANDINO Pablo (URU)  97410100   \n",
       "\n",
       "       MatchID Home Team Initials Away Team Initials  \n",
       "104       1407                HUN                WAL  \n",
       "225       1811                FRG                ENG  \n",
       "822  300186462                FRA                NGA  \n",
       "804  300186467                AUS                ESP  \n",
       "651   97410008                ANG                POR  "
      ]
     },
     "execution_count": 7,
     "metadata": {},
     "output_type": "execute_result"
    }
   ],
   "source": [
    "matches.sample(5)"
   ]
  },
  {
   "cell_type": "code",
   "execution_count": 8,
   "id": "d2ca400c",
   "metadata": {},
   "outputs": [
    {
     "data": {
      "text/html": [
       "<div>\n",
       "<style scoped>\n",
       "    .dataframe tbody tr th:only-of-type {\n",
       "        vertical-align: middle;\n",
       "    }\n",
       "\n",
       "    .dataframe tbody tr th {\n",
       "        vertical-align: top;\n",
       "    }\n",
       "\n",
       "    .dataframe thead th {\n",
       "        text-align: right;\n",
       "    }\n",
       "</style>\n",
       "<table border=\"1\" class=\"dataframe\">\n",
       "  <thead>\n",
       "    <tr style=\"text-align: right;\">\n",
       "      <th></th>\n",
       "      <th>RoundID</th>\n",
       "      <th>MatchID</th>\n",
       "      <th>Team Initials</th>\n",
       "      <th>Coach Name</th>\n",
       "      <th>Line-up</th>\n",
       "      <th>Shirt Number</th>\n",
       "      <th>Player Name</th>\n",
       "      <th>Position</th>\n",
       "      <th>Event</th>\n",
       "    </tr>\n",
       "  </thead>\n",
       "  <tbody>\n",
       "    <tr>\n",
       "      <th>17810</th>\n",
       "      <td>3468</td>\n",
       "      <td>422</td>\n",
       "      <td>BEL</td>\n",
       "      <td>THYS Guy (BEL)</td>\n",
       "      <td>S</td>\n",
       "      <td>22</td>\n",
       "      <td>Patrick VERVOORT</td>\n",
       "      <td>NaN</td>\n",
       "      <td>NaN</td>\n",
       "    </tr>\n",
       "    <tr>\n",
       "      <th>37637</th>\n",
       "      <td>255955</td>\n",
       "      <td>300186474</td>\n",
       "      <td>GER</td>\n",
       "      <td>LOEW Joachim (GER)</td>\n",
       "      <td>N</td>\n",
       "      <td>15</td>\n",
       "      <td>DURM</td>\n",
       "      <td>NaN</td>\n",
       "      <td>NaN</td>\n",
       "    </tr>\n",
       "    <tr>\n",
       "      <th>14869</th>\n",
       "      <td>293</td>\n",
       "      <td>902</td>\n",
       "      <td>NIR</td>\n",
       "      <td>BINGHAM Billy (NIR)</td>\n",
       "      <td>N</td>\n",
       "      <td>14</td>\n",
       "      <td>Tommy CASSIDY</td>\n",
       "      <td>NaN</td>\n",
       "      <td>I50'</td>\n",
       "    </tr>\n",
       "    <tr>\n",
       "      <th>27861</th>\n",
       "      <td>43950300</td>\n",
       "      <td>43950057</td>\n",
       "      <td>BRA</td>\n",
       "      <td>SCOLARI Luiz Felipe (BRA)</td>\n",
       "      <td>S</td>\n",
       "      <td>6</td>\n",
       "      <td>R CARLOS</td>\n",
       "      <td>NaN</td>\n",
       "      <td>NaN</td>\n",
       "    </tr>\n",
       "    <tr>\n",
       "      <th>35536</th>\n",
       "      <td>255931</td>\n",
       "      <td>300186483</td>\n",
       "      <td>USA</td>\n",
       "      <td>KLINSMANN Juergen (GER)</td>\n",
       "      <td>S</td>\n",
       "      <td>7</td>\n",
       "      <td>BEASLEY</td>\n",
       "      <td>NaN</td>\n",
       "      <td>NaN</td>\n",
       "    </tr>\n",
       "  </tbody>\n",
       "</table>\n",
       "</div>"
      ],
      "text/plain": [
       "        RoundID    MatchID Team Initials                 Coach Name Line-up  \\\n",
       "17810      3468        422           BEL             THYS Guy (BEL)       S   \n",
       "37637    255955  300186474           GER         LOEW Joachim (GER)       N   \n",
       "14869       293        902           NIR        BINGHAM Billy (NIR)       N   \n",
       "27861  43950300   43950057           BRA  SCOLARI Luiz Felipe (BRA)       S   \n",
       "35536    255931  300186483           USA    KLINSMANN Juergen (GER)       S   \n",
       "\n",
       "       Shirt Number       Player Name Position Event  \n",
       "17810            22  Patrick VERVOORT      NaN   NaN  \n",
       "37637            15              DURM      NaN   NaN  \n",
       "14869            14     Tommy CASSIDY      NaN  I50'  \n",
       "27861             6          R CARLOS      NaN   NaN  \n",
       "35536             7           BEASLEY      NaN   NaN  "
      ]
     },
     "execution_count": 8,
     "metadata": {},
     "output_type": "execute_result"
    }
   ],
   "source": [
    "players.sample(5)"
   ]
  },
  {
   "cell_type": "code",
   "execution_count": 11,
   "id": "9eb4f110",
   "metadata": {},
   "outputs": [
    {
     "data": {
      "text/html": [
       "<div>\n",
       "<style scoped>\n",
       "    .dataframe tbody tr th:only-of-type {\n",
       "        vertical-align: middle;\n",
       "    }\n",
       "\n",
       "    .dataframe tbody tr th {\n",
       "        vertical-align: top;\n",
       "    }\n",
       "\n",
       "    .dataframe thead th {\n",
       "        text-align: right;\n",
       "    }\n",
       "</style>\n",
       "<table border=\"1\" class=\"dataframe\">\n",
       "  <thead>\n",
       "    <tr style=\"text-align: right;\">\n",
       "      <th></th>\n",
       "      <th>Year</th>\n",
       "      <th>Country</th>\n",
       "      <th>Winner</th>\n",
       "      <th>Runners-Up</th>\n",
       "      <th>Third</th>\n",
       "      <th>Fourth</th>\n",
       "      <th>GoalsScored</th>\n",
       "      <th>QualifiedTeams</th>\n",
       "      <th>MatchesPlayed</th>\n",
       "      <th>Attendance</th>\n",
       "    </tr>\n",
       "  </thead>\n",
       "  <tbody>\n",
       "    <tr>\n",
       "      <th>0</th>\n",
       "      <td>1930</td>\n",
       "      <td>Uruguay</td>\n",
       "      <td>Uruguay</td>\n",
       "      <td>Argentina</td>\n",
       "      <td>USA</td>\n",
       "      <td>Yugoslavia</td>\n",
       "      <td>70</td>\n",
       "      <td>13</td>\n",
       "      <td>18</td>\n",
       "      <td>590.549</td>\n",
       "    </tr>\n",
       "    <tr>\n",
       "      <th>1</th>\n",
       "      <td>1934</td>\n",
       "      <td>Italy</td>\n",
       "      <td>Italy</td>\n",
       "      <td>Czechoslovakia</td>\n",
       "      <td>Germany</td>\n",
       "      <td>Austria</td>\n",
       "      <td>70</td>\n",
       "      <td>16</td>\n",
       "      <td>17</td>\n",
       "      <td>363.000</td>\n",
       "    </tr>\n",
       "    <tr>\n",
       "      <th>2</th>\n",
       "      <td>1938</td>\n",
       "      <td>France</td>\n",
       "      <td>Italy</td>\n",
       "      <td>Hungary</td>\n",
       "      <td>Brazil</td>\n",
       "      <td>Sweden</td>\n",
       "      <td>84</td>\n",
       "      <td>15</td>\n",
       "      <td>18</td>\n",
       "      <td>375.700</td>\n",
       "    </tr>\n",
       "    <tr>\n",
       "      <th>3</th>\n",
       "      <td>1950</td>\n",
       "      <td>Brazil</td>\n",
       "      <td>Uruguay</td>\n",
       "      <td>Brazil</td>\n",
       "      <td>Sweden</td>\n",
       "      <td>Spain</td>\n",
       "      <td>88</td>\n",
       "      <td>13</td>\n",
       "      <td>22</td>\n",
       "      <td>1.045.246</td>\n",
       "    </tr>\n",
       "    <tr>\n",
       "      <th>4</th>\n",
       "      <td>1954</td>\n",
       "      <td>Switzerland</td>\n",
       "      <td>Germany FR</td>\n",
       "      <td>Hungary</td>\n",
       "      <td>Austria</td>\n",
       "      <td>Uruguay</td>\n",
       "      <td>140</td>\n",
       "      <td>16</td>\n",
       "      <td>26</td>\n",
       "      <td>768.607</td>\n",
       "    </tr>\n",
       "    <tr>\n",
       "      <th>5</th>\n",
       "      <td>1958</td>\n",
       "      <td>Sweden</td>\n",
       "      <td>Brazil</td>\n",
       "      <td>Sweden</td>\n",
       "      <td>France</td>\n",
       "      <td>Germany FR</td>\n",
       "      <td>126</td>\n",
       "      <td>16</td>\n",
       "      <td>35</td>\n",
       "      <td>819.810</td>\n",
       "    </tr>\n",
       "    <tr>\n",
       "      <th>6</th>\n",
       "      <td>1962</td>\n",
       "      <td>Chile</td>\n",
       "      <td>Brazil</td>\n",
       "      <td>Czechoslovakia</td>\n",
       "      <td>Chile</td>\n",
       "      <td>Yugoslavia</td>\n",
       "      <td>89</td>\n",
       "      <td>16</td>\n",
       "      <td>32</td>\n",
       "      <td>893.172</td>\n",
       "    </tr>\n",
       "    <tr>\n",
       "      <th>7</th>\n",
       "      <td>1966</td>\n",
       "      <td>England</td>\n",
       "      <td>England</td>\n",
       "      <td>Germany FR</td>\n",
       "      <td>Portugal</td>\n",
       "      <td>Soviet Union</td>\n",
       "      <td>89</td>\n",
       "      <td>16</td>\n",
       "      <td>32</td>\n",
       "      <td>1.563.135</td>\n",
       "    </tr>\n",
       "    <tr>\n",
       "      <th>8</th>\n",
       "      <td>1970</td>\n",
       "      <td>Mexico</td>\n",
       "      <td>Brazil</td>\n",
       "      <td>Italy</td>\n",
       "      <td>Germany FR</td>\n",
       "      <td>Uruguay</td>\n",
       "      <td>95</td>\n",
       "      <td>16</td>\n",
       "      <td>32</td>\n",
       "      <td>1.603.975</td>\n",
       "    </tr>\n",
       "    <tr>\n",
       "      <th>9</th>\n",
       "      <td>1974</td>\n",
       "      <td>Germany</td>\n",
       "      <td>Germany FR</td>\n",
       "      <td>Netherlands</td>\n",
       "      <td>Poland</td>\n",
       "      <td>Brazil</td>\n",
       "      <td>97</td>\n",
       "      <td>16</td>\n",
       "      <td>38</td>\n",
       "      <td>1.865.753</td>\n",
       "    </tr>\n",
       "  </tbody>\n",
       "</table>\n",
       "</div>"
      ],
      "text/plain": [
       "   Year      Country      Winner      Runners-Up       Third        Fourth  \\\n",
       "0  1930      Uruguay     Uruguay       Argentina         USA    Yugoslavia   \n",
       "1  1934        Italy       Italy  Czechoslovakia     Germany       Austria   \n",
       "2  1938       France       Italy         Hungary      Brazil        Sweden   \n",
       "3  1950       Brazil     Uruguay          Brazil      Sweden         Spain   \n",
       "4  1954  Switzerland  Germany FR         Hungary     Austria       Uruguay   \n",
       "5  1958       Sweden      Brazil          Sweden      France    Germany FR   \n",
       "6  1962        Chile      Brazil  Czechoslovakia       Chile    Yugoslavia   \n",
       "7  1966      England     England      Germany FR    Portugal  Soviet Union   \n",
       "8  1970       Mexico      Brazil           Italy  Germany FR       Uruguay   \n",
       "9  1974      Germany  Germany FR     Netherlands      Poland        Brazil   \n",
       "\n",
       "   GoalsScored  QualifiedTeams  MatchesPlayed Attendance  \n",
       "0           70              13             18    590.549  \n",
       "1           70              16             17    363.000  \n",
       "2           84              15             18    375.700  \n",
       "3           88              13             22  1.045.246  \n",
       "4          140              16             26    768.607  \n",
       "5          126              16             35    819.810  \n",
       "6           89              16             32    893.172  \n",
       "7           89              16             32  1.563.135  \n",
       "8           95              16             32  1.603.975  \n",
       "9           97              16             38  1.865.753  "
      ]
     },
     "execution_count": 11,
     "metadata": {},
     "output_type": "execute_result"
    }
   ],
   "source": [
    "world_cup.head(10)"
   ]
  },
  {
   "cell_type": "code",
   "execution_count": 14,
   "id": "53fa0d3f",
   "metadata": {},
   "outputs": [
    {
     "name": "stdout",
     "output_type": "stream",
     "text": [
      "<class 'pandas.core.frame.DataFrame'>\n",
      "RangeIndex: 20 entries, 0 to 19\n",
      "Data columns (total 10 columns):\n",
      " #   Column          Non-Null Count  Dtype \n",
      "---  ------          --------------  ----- \n",
      " 0   Year            20 non-null     int64 \n",
      " 1   Country         20 non-null     object\n",
      " 2   Winner          20 non-null     object\n",
      " 3   Runners-Up      20 non-null     object\n",
      " 4   Third           20 non-null     object\n",
      " 5   Fourth          20 non-null     object\n",
      " 6   GoalsScored     20 non-null     int64 \n",
      " 7   QualifiedTeams  20 non-null     int64 \n",
      " 8   MatchesPlayed   20 non-null     int64 \n",
      " 9   Attendance      20 non-null     object\n",
      "dtypes: int64(4), object(6)\n",
      "memory usage: 1.7+ KB\n",
      "<class 'pandas.core.frame.DataFrame'>\n",
      "RangeIndex: 852 entries, 0 to 851\n",
      "Data columns (total 20 columns):\n",
      " #   Column                Non-Null Count  Dtype  \n",
      "---  ------                --------------  -----  \n",
      " 0   Year                  852 non-null    int64  \n",
      " 1   Datetime              852 non-null    object \n",
      " 2   Stage                 852 non-null    object \n",
      " 3   Stadium               852 non-null    object \n",
      " 4   City                  852 non-null    object \n",
      " 5   Home Team Name        852 non-null    object \n",
      " 6   Home Team Goals       852 non-null    int64  \n",
      " 7   Away Team Goals       852 non-null    int64  \n",
      " 8   Away Team Name        852 non-null    object \n",
      " 9   Win conditions        852 non-null    object \n",
      " 10  Attendance            850 non-null    float64\n",
      " 11  Half-time Home Goals  852 non-null    int64  \n",
      " 12  Half-time Away Goals  852 non-null    int64  \n",
      " 13  Referee               852 non-null    object \n",
      " 14  Assistant 1           852 non-null    object \n",
      " 15  Assistant 2           852 non-null    object \n",
      " 16  RoundID               852 non-null    int64  \n",
      " 17  MatchID               852 non-null    int64  \n",
      " 18  Home Team Initials    852 non-null    object \n",
      " 19  Away Team Initials    852 non-null    object \n",
      "dtypes: float64(1), int64(7), object(12)\n",
      "memory usage: 133.2+ KB\n",
      "<class 'pandas.core.frame.DataFrame'>\n",
      "RangeIndex: 37784 entries, 0 to 37783\n",
      "Data columns (total 9 columns):\n",
      " #   Column         Non-Null Count  Dtype \n",
      "---  ------         --------------  ----- \n",
      " 0   RoundID        37784 non-null  int64 \n",
      " 1   MatchID        37784 non-null  int64 \n",
      " 2   Team Initials  37784 non-null  object\n",
      " 3   Coach Name     37784 non-null  object\n",
      " 4   Line-up        37784 non-null  object\n",
      " 5   Shirt Number   37784 non-null  int64 \n",
      " 6   Player Name    37784 non-null  object\n",
      " 7   Position       4143 non-null   object\n",
      " 8   Event          9069 non-null   object\n",
      "dtypes: int64(3), object(6)\n",
      "memory usage: 2.6+ MB\n"
     ]
    }
   ],
   "source": [
    "# Get an overview of each dataset\n",
    "world_cup.info()\n",
    "matches.info()\n",
    "players.info()"
   ]
  },
  {
   "cell_type": "code",
   "execution_count": 19,
   "id": "aab0ec62",
   "metadata": {},
   "outputs": [
    {
     "data": {
      "text/plain": [
       "Year              0\n",
       "Country           0\n",
       "Winner            0\n",
       "Runners-Up        0\n",
       "Third             0\n",
       "Fourth            0\n",
       "GoalsScored       0\n",
       "QualifiedTeams    0\n",
       "MatchesPlayed     0\n",
       "Attendance        0\n",
       "dtype: int64"
      ]
     },
     "execution_count": 19,
     "metadata": {},
     "output_type": "execute_result"
    }
   ],
   "source": [
    "# Check for missing values\n",
    "world_cup.isnull().sum()"
   ]
  },
  {
   "cell_type": "code",
   "execution_count": 20,
   "id": "0ff7ea94",
   "metadata": {},
   "outputs": [
    {
     "data": {
      "text/plain": [
       "Year                    0\n",
       "Datetime                0\n",
       "Stage                   0\n",
       "Stadium                 0\n",
       "City                    0\n",
       "Home Team Name          0\n",
       "Home Team Goals         0\n",
       "Away Team Goals         0\n",
       "Away Team Name          0\n",
       "Win conditions          0\n",
       "Attendance              2\n",
       "Half-time Home Goals    0\n",
       "Half-time Away Goals    0\n",
       "Referee                 0\n",
       "Assistant 1             0\n",
       "Assistant 2             0\n",
       "RoundID                 0\n",
       "MatchID                 0\n",
       "Home Team Initials      0\n",
       "Away Team Initials      0\n",
       "dtype: int64"
      ]
     },
     "execution_count": 20,
     "metadata": {},
     "output_type": "execute_result"
    }
   ],
   "source": [
    "matches.isnull().sum()"
   ]
  },
  {
   "cell_type": "code",
   "execution_count": 21,
   "id": "046e358d",
   "metadata": {},
   "outputs": [
    {
     "data": {
      "text/plain": [
       "RoundID              0\n",
       "MatchID              0\n",
       "Team Initials        0\n",
       "Coach Name           0\n",
       "Line-up              0\n",
       "Shirt Number         0\n",
       "Player Name          0\n",
       "Position         33641\n",
       "Event            28715\n",
       "dtype: int64"
      ]
     },
     "execution_count": 21,
     "metadata": {},
     "output_type": "execute_result"
    }
   ],
   "source": [
    "players.isnull().sum()"
   ]
  },
  {
   "cell_type": "code",
   "execution_count": 22,
   "id": "cc18d50d",
   "metadata": {},
   "outputs": [
    {
     "data": {
      "text/plain": [
       "0"
      ]
     },
     "execution_count": 22,
     "metadata": {},
     "output_type": "execute_result"
    }
   ],
   "source": [
    "world_cup.duplicated().sum()"
   ]
  },
  {
   "cell_type": "code",
   "execution_count": 23,
   "id": "038061c2",
   "metadata": {},
   "outputs": [
    {
     "data": {
      "text/plain": [
       "16"
      ]
     },
     "execution_count": 23,
     "metadata": {},
     "output_type": "execute_result"
    }
   ],
   "source": [
    "matches.duplicated().sum()"
   ]
  },
  {
   "cell_type": "code",
   "execution_count": 24,
   "id": "7bc312eb",
   "metadata": {},
   "outputs": [
    {
     "data": {
      "text/plain": [
       "736"
      ]
     },
     "execution_count": 24,
     "metadata": {},
     "output_type": "execute_result"
    }
   ],
   "source": [
    "players.duplicated().sum()"
   ]
  },
  {
   "cell_type": "code",
   "execution_count": 25,
   "id": "401fc225",
   "metadata": {},
   "outputs": [
    {
     "data": {
      "text/html": [
       "<div>\n",
       "<style scoped>\n",
       "    .dataframe tbody tr th:only-of-type {\n",
       "        vertical-align: middle;\n",
       "    }\n",
       "\n",
       "    .dataframe tbody tr th {\n",
       "        vertical-align: top;\n",
       "    }\n",
       "\n",
       "    .dataframe thead th {\n",
       "        text-align: right;\n",
       "    }\n",
       "</style>\n",
       "<table border=\"1\" class=\"dataframe\">\n",
       "  <thead>\n",
       "    <tr style=\"text-align: right;\">\n",
       "      <th></th>\n",
       "      <th>RoundID</th>\n",
       "      <th>MatchID</th>\n",
       "      <th>Team Initials</th>\n",
       "      <th>Coach Name</th>\n",
       "      <th>Line-up</th>\n",
       "      <th>Shirt Number</th>\n",
       "      <th>Player Name</th>\n",
       "    </tr>\n",
       "  </thead>\n",
       "  <tbody>\n",
       "    <tr>\n",
       "      <th>0</th>\n",
       "      <td>201</td>\n",
       "      <td>1096</td>\n",
       "      <td>FRA</td>\n",
       "      <td>CAUDRON Raoul (FRA)</td>\n",
       "      <td>S</td>\n",
       "      <td>0</td>\n",
       "      <td>Alex THEPOT</td>\n",
       "    </tr>\n",
       "    <tr>\n",
       "      <th>1</th>\n",
       "      <td>201</td>\n",
       "      <td>1096</td>\n",
       "      <td>MEX</td>\n",
       "      <td>LUQUE Juan (MEX)</td>\n",
       "      <td>S</td>\n",
       "      <td>0</td>\n",
       "      <td>Oscar BONFIGLIO</td>\n",
       "    </tr>\n",
       "    <tr>\n",
       "      <th>2</th>\n",
       "      <td>201</td>\n",
       "      <td>1096</td>\n",
       "      <td>FRA</td>\n",
       "      <td>CAUDRON Raoul (FRA)</td>\n",
       "      <td>S</td>\n",
       "      <td>0</td>\n",
       "      <td>Marcel LANGILLER</td>\n",
       "    </tr>\n",
       "    <tr>\n",
       "      <th>3</th>\n",
       "      <td>201</td>\n",
       "      <td>1096</td>\n",
       "      <td>MEX</td>\n",
       "      <td>LUQUE Juan (MEX)</td>\n",
       "      <td>S</td>\n",
       "      <td>0</td>\n",
       "      <td>Juan CARRENO</td>\n",
       "    </tr>\n",
       "    <tr>\n",
       "      <th>4</th>\n",
       "      <td>201</td>\n",
       "      <td>1096</td>\n",
       "      <td>FRA</td>\n",
       "      <td>CAUDRON Raoul (FRA)</td>\n",
       "      <td>S</td>\n",
       "      <td>0</td>\n",
       "      <td>Ernest LIBERATI</td>\n",
       "    </tr>\n",
       "  </tbody>\n",
       "</table>\n",
       "</div>"
      ],
      "text/plain": [
       "   RoundID  MatchID Team Initials           Coach Name Line-up  Shirt Number  \\\n",
       "0      201     1096           FRA  CAUDRON Raoul (FRA)       S             0   \n",
       "1      201     1096           MEX     LUQUE Juan (MEX)       S             0   \n",
       "2      201     1096           FRA  CAUDRON Raoul (FRA)       S             0   \n",
       "3      201     1096           MEX     LUQUE Juan (MEX)       S             0   \n",
       "4      201     1096           FRA  CAUDRON Raoul (FRA)       S             0   \n",
       "\n",
       "        Player Name  \n",
       "0       Alex THEPOT  \n",
       "1   Oscar BONFIGLIO  \n",
       "2  Marcel LANGILLER  \n",
       "3      Juan CARRENO  \n",
       "4   Ernest LIBERATI  "
      ]
     },
     "execution_count": 25,
     "metadata": {},
     "output_type": "execute_result"
    }
   ],
   "source": [
    "#Dropping Unnecessary columns in the Players dataset\n",
    "players.drop(columns=['Position', 'Event'], inplace=True)\n",
    "players.head()"
   ]
  },
  {
   "cell_type": "code",
   "execution_count": 27,
   "id": "a2ce92dc",
   "metadata": {},
   "outputs": [
    {
     "data": {
      "text/plain": [
       "0"
      ]
     },
     "execution_count": 27,
     "metadata": {},
     "output_type": "execute_result"
    }
   ],
   "source": [
    "#Removing duplicate rows from matches dataset\n",
    "matches.drop_duplicates(inplace=True)\n",
    "matches.duplicated().sum()"
   ]
  },
  {
   "cell_type": "code",
   "execution_count": 28,
   "id": "8510e5ae",
   "metadata": {},
   "outputs": [
    {
     "data": {
      "text/plain": [
       "0"
      ]
     },
     "execution_count": 28,
     "metadata": {},
     "output_type": "execute_result"
    }
   ],
   "source": [
    "#Removing duplicate rows from players dataset\n",
    "players.drop_duplicates(inplace=True)\n",
    "players.duplicated().sum()"
   ]
  },
  {
   "cell_type": "code",
   "execution_count": 29,
   "id": "222b103b",
   "metadata": {},
   "outputs": [
    {
     "data": {
      "text/plain": [
       "(20, 10)"
      ]
     },
     "execution_count": 29,
     "metadata": {},
     "output_type": "execute_result"
    }
   ],
   "source": [
    "world_cup.shape"
   ]
  },
  {
   "cell_type": "code",
   "execution_count": 30,
   "id": "2bd937e8",
   "metadata": {},
   "outputs": [
    {
     "data": {
      "text/plain": [
       "(836, 20)"
      ]
     },
     "execution_count": 30,
     "metadata": {},
     "output_type": "execute_result"
    }
   ],
   "source": [
    "matches.shape"
   ]
  },
  {
   "cell_type": "code",
   "execution_count": 31,
   "id": "a85260a1",
   "metadata": {},
   "outputs": [
    {
     "data": {
      "text/plain": [
       "(37048, 7)"
      ]
     },
     "execution_count": 31,
     "metadata": {},
     "output_type": "execute_result"
    }
   ],
   "source": [
    "players.shape"
   ]
  },
  {
   "cell_type": "markdown",
   "id": "aae269d1",
   "metadata": {},
   "source": [
    "#  Most World Cup winning Teams"
   ]
  },
  {
   "cell_type": "code",
   "execution_count": 32,
   "id": "2e8aef1e",
   "metadata": {},
   "outputs": [
    {
     "data": {
      "text/plain": [
       "Brazil        5\n",
       "Italy         4\n",
       "Germany FR    3\n",
       "Uruguay       2\n",
       "Argentina     2\n",
       "England       1\n",
       "France        1\n",
       "Spain         1\n",
       "Germany       1\n",
       "Name: Winner, dtype: int64"
      ]
     },
     "execution_count": 32,
     "metadata": {},
     "output_type": "execute_result"
    }
   ],
   "source": [
    "Winner = world_cup['Winner'].value_counts()\n",
    "Winner"
   ]
  },
  {
   "cell_type": "markdown",
   "id": "872e2b35",
   "metadata": {},
   "source": [
    "# No. of Goals scored by each country"
   ]
  },
  {
   "cell_type": "code",
   "execution_count": 33,
   "id": "a0af5b14",
   "metadata": {},
   "outputs": [],
   "source": [
    "home = matches[['Home Team Name', 'Home Team Goals']]\n",
    "away = matches[['Away Team Name', 'Away Team Goals']]"
   ]
  },
  {
   "cell_type": "code",
   "execution_count": 34,
   "id": "dc482513",
   "metadata": {},
   "outputs": [],
   "source": [
    "home.columns = ['Countries', 'Goals']\n",
    "away.columns = home.columns"
   ]
  },
  {
   "cell_type": "code",
   "execution_count": 41,
   "id": "e1b6788c",
   "metadata": {},
   "outputs": [],
   "source": [
    "goals = pd.concat([home, away], ignore_index=True)"
   ]
  },
  {
   "cell_type": "code",
   "execution_count": 128,
   "id": "ce6b9088",
   "metadata": {},
   "outputs": [
    {
     "data": {
      "text/html": [
       "<div>\n",
       "<style scoped>\n",
       "    .dataframe tbody tr th:only-of-type {\n",
       "        vertical-align: middle;\n",
       "    }\n",
       "\n",
       "    .dataframe tbody tr th {\n",
       "        vertical-align: top;\n",
       "    }\n",
       "\n",
       "    .dataframe thead th {\n",
       "        text-align: right;\n",
       "    }\n",
       "</style>\n",
       "<table border=\"1\" class=\"dataframe\">\n",
       "  <thead>\n",
       "    <tr style=\"text-align: right;\">\n",
       "      <th></th>\n",
       "      <th>Goals</th>\n",
       "    </tr>\n",
       "    <tr>\n",
       "      <th>Countries</th>\n",
       "      <th></th>\n",
       "    </tr>\n",
       "  </thead>\n",
       "  <tbody>\n",
       "    <tr>\n",
       "      <th>Brazil</th>\n",
       "      <td>221</td>\n",
       "    </tr>\n",
       "    <tr>\n",
       "      <th>Argentina</th>\n",
       "      <td>131</td>\n",
       "    </tr>\n",
       "    <tr>\n",
       "      <th>Germany FR</th>\n",
       "      <td>131</td>\n",
       "    </tr>\n",
       "    <tr>\n",
       "      <th>Italy</th>\n",
       "      <td>128</td>\n",
       "    </tr>\n",
       "    <tr>\n",
       "      <th>France</th>\n",
       "      <td>106</td>\n",
       "    </tr>\n",
       "    <tr>\n",
       "      <th>...</th>\n",
       "      <td>...</td>\n",
       "    </tr>\n",
       "    <tr>\n",
       "      <th>Dutch East Indies</th>\n",
       "      <td>0</td>\n",
       "    </tr>\n",
       "    <tr>\n",
       "      <th>China PR</th>\n",
       "      <td>0</td>\n",
       "    </tr>\n",
       "    <tr>\n",
       "      <th>Canada</th>\n",
       "      <td>0</td>\n",
       "    </tr>\n",
       "    <tr>\n",
       "      <th>Zaire</th>\n",
       "      <td>0</td>\n",
       "    </tr>\n",
       "    <tr>\n",
       "      <th>rn\"&gt;Trinidad and Tobago</th>\n",
       "      <td>0</td>\n",
       "    </tr>\n",
       "  </tbody>\n",
       "</table>\n",
       "<p>83 rows × 1 columns</p>\n",
       "</div>"
      ],
      "text/plain": [
       "                         Goals\n",
       "Countries                     \n",
       "Brazil                     221\n",
       "Argentina                  131\n",
       "Germany FR                 131\n",
       "Italy                      128\n",
       "France                     106\n",
       "...                        ...\n",
       "Dutch East Indies            0\n",
       "China PR                     0\n",
       "Canada                       0\n",
       "Zaire                        0\n",
       "rn\">Trinidad and Tobago      0\n",
       "\n",
       "[83 rows x 1 columns]"
      ]
     },
     "execution_count": 128,
     "metadata": {},
     "output_type": "execute_result"
    }
   ],
   "source": [
    "goals = goals.groupby('Countries').sum()\n",
    "goals = goals.sort_values(by = 'Goals', ascending=False)\n",
    "goals\n"
   ]
  },
  {
   "cell_type": "code",
   "execution_count": 60,
   "id": "121f38c1",
   "metadata": {},
   "outputs": [
    {
     "data": {
      "text/plain": [
       "<Figure size 1000x1000 with 0 Axes>"
      ]
     },
     "metadata": {},
     "output_type": "display_data"
    },
    {
     "data": {
      "image/png": "[encoded data removed]",
      "text/plain": [
       "<Figure size 640x480 with 1 Axes>"
      ]
     },
     "metadata": {},
     "output_type": "display_data"
    }
   ],
   "source": [
    "plt.figure(figsize=(10,10))\n",
    "goals[:11].plot(kind='bar', color='skyblue')\n",
    "plt.xlabel('Countries')\n",
    "plt.ylabel('Total Goals')\n",
    "plt.title('Total Goals Scored by Top 10 Countries')\n",
    "plt.xticks(rotation=45)\n",
    "plt.show()"
   ]
  },
  {
   "cell_type": "markdown",
   "id": "8785f661",
   "metadata": {},
   "source": [
    "# Match outcome by home and away teams"
   ]
  },
  {
   "cell_type": "code",
   "execution_count": 61,
   "id": "426bd50f",
   "metadata": {},
   "outputs": [],
   "source": [
    "def get_labels(matches):\n",
    "    if matches['Home Team Goals'] > matches['Away Team Goals']:\n",
    "        return 'Home Team Win'\n",
    "    if matches['Home Team Goals'] < matches['Away Team Goals']:\n",
    "        return 'Away Team Win'\n",
    "    return 'DRAW'"
   ]
  },
  {
   "cell_type": "code",
   "execution_count": 62,
   "id": "f745f4d8",
   "metadata": {},
   "outputs": [],
   "source": [
    "matches['outcome'] = matches.apply(lambda x: get_labels(x), axis=1)"
   ]
  },
  {
   "cell_type": "code",
   "execution_count": 63,
   "id": "9b9dbe48",
   "metadata": {},
   "outputs": [
    {
     "data": {
      "text/html": [
       "<div>\n",
       "<style scoped>\n",
       "    .dataframe tbody tr th:only-of-type {\n",
       "        vertical-align: middle;\n",
       "    }\n",
       "\n",
       "    .dataframe tbody tr th {\n",
       "        vertical-align: top;\n",
       "    }\n",
       "\n",
       "    .dataframe thead th {\n",
       "        text-align: right;\n",
       "    }\n",
       "</style>\n",
       "<table border=\"1\" class=\"dataframe\">\n",
       "  <thead>\n",
       "    <tr style=\"text-align: right;\">\n",
       "      <th></th>\n",
       "      <th>Year</th>\n",
       "      <th>Datetime</th>\n",
       "      <th>Stage</th>\n",
       "      <th>Stadium</th>\n",
       "      <th>City</th>\n",
       "      <th>Home Team Name</th>\n",
       "      <th>Home Team Goals</th>\n",
       "      <th>Away Team Goals</th>\n",
       "      <th>Away Team Name</th>\n",
       "      <th>Win conditions</th>\n",
       "      <th>...</th>\n",
       "      <th>Half-time Home Goals</th>\n",
       "      <th>Half-time Away Goals</th>\n",
       "      <th>Referee</th>\n",
       "      <th>Assistant 1</th>\n",
       "      <th>Assistant 2</th>\n",
       "      <th>RoundID</th>\n",
       "      <th>MatchID</th>\n",
       "      <th>Home Team Initials</th>\n",
       "      <th>Away Team Initials</th>\n",
       "      <th>outcome</th>\n",
       "    </tr>\n",
       "  </thead>\n",
       "  <tbody>\n",
       "    <tr>\n",
       "      <th>0</th>\n",
       "      <td>1930</td>\n",
       "      <td>13 Jul 1930 - 15:00</td>\n",
       "      <td>Group 1</td>\n",
       "      <td>Pocitos</td>\n",
       "      <td>Montevideo</td>\n",
       "      <td>France</td>\n",
       "      <td>4</td>\n",
       "      <td>1</td>\n",
       "      <td>Mexico</td>\n",
       "      <td></td>\n",
       "      <td>...</td>\n",
       "      <td>3</td>\n",
       "      <td>0</td>\n",
       "      <td>LOMBARDI Domingo (URU)</td>\n",
       "      <td>CRISTOPHE Henry (BEL)</td>\n",
       "      <td>REGO Gilberto (BRA)</td>\n",
       "      <td>201</td>\n",
       "      <td>1096</td>\n",
       "      <td>FRA</td>\n",
       "      <td>MEX</td>\n",
       "      <td>Home Team Win</td>\n",
       "    </tr>\n",
       "    <tr>\n",
       "      <th>1</th>\n",
       "      <td>1930</td>\n",
       "      <td>13 Jul 1930 - 15:00</td>\n",
       "      <td>Group 4</td>\n",
       "      <td>Parque Central</td>\n",
       "      <td>Montevideo</td>\n",
       "      <td>USA</td>\n",
       "      <td>3</td>\n",
       "      <td>0</td>\n",
       "      <td>Belgium</td>\n",
       "      <td></td>\n",
       "      <td>...</td>\n",
       "      <td>2</td>\n",
       "      <td>0</td>\n",
       "      <td>MACIAS Jose (ARG)</td>\n",
       "      <td>MATEUCCI Francisco (URU)</td>\n",
       "      <td>WARNKEN Alberto (CHI)</td>\n",
       "      <td>201</td>\n",
       "      <td>1090</td>\n",
       "      <td>USA</td>\n",
       "      <td>BEL</td>\n",
       "      <td>Home Team Win</td>\n",
       "    </tr>\n",
       "    <tr>\n",
       "      <th>2</th>\n",
       "      <td>1930</td>\n",
       "      <td>14 Jul 1930 - 12:45</td>\n",
       "      <td>Group 2</td>\n",
       "      <td>Parque Central</td>\n",
       "      <td>Montevideo</td>\n",
       "      <td>Yugoslavia</td>\n",
       "      <td>2</td>\n",
       "      <td>1</td>\n",
       "      <td>Brazil</td>\n",
       "      <td></td>\n",
       "      <td>...</td>\n",
       "      <td>2</td>\n",
       "      <td>0</td>\n",
       "      <td>TEJADA Anibal (URU)</td>\n",
       "      <td>VALLARINO Ricardo (URU)</td>\n",
       "      <td>BALWAY Thomas (FRA)</td>\n",
       "      <td>201</td>\n",
       "      <td>1093</td>\n",
       "      <td>YUG</td>\n",
       "      <td>BRA</td>\n",
       "      <td>Home Team Win</td>\n",
       "    </tr>\n",
       "    <tr>\n",
       "      <th>3</th>\n",
       "      <td>1930</td>\n",
       "      <td>14 Jul 1930 - 14:50</td>\n",
       "      <td>Group 3</td>\n",
       "      <td>Pocitos</td>\n",
       "      <td>Montevideo</td>\n",
       "      <td>Romania</td>\n",
       "      <td>3</td>\n",
       "      <td>1</td>\n",
       "      <td>Peru</td>\n",
       "      <td></td>\n",
       "      <td>...</td>\n",
       "      <td>1</td>\n",
       "      <td>0</td>\n",
       "      <td>WARNKEN Alberto (CHI)</td>\n",
       "      <td>LANGENUS Jean (BEL)</td>\n",
       "      <td>MATEUCCI Francisco (URU)</td>\n",
       "      <td>201</td>\n",
       "      <td>1098</td>\n",
       "      <td>ROU</td>\n",
       "      <td>PER</td>\n",
       "      <td>Home Team Win</td>\n",
       "    </tr>\n",
       "    <tr>\n",
       "      <th>4</th>\n",
       "      <td>1930</td>\n",
       "      <td>15 Jul 1930 - 16:00</td>\n",
       "      <td>Group 1</td>\n",
       "      <td>Parque Central</td>\n",
       "      <td>Montevideo</td>\n",
       "      <td>Argentina</td>\n",
       "      <td>1</td>\n",
       "      <td>0</td>\n",
       "      <td>France</td>\n",
       "      <td></td>\n",
       "      <td>...</td>\n",
       "      <td>0</td>\n",
       "      <td>0</td>\n",
       "      <td>REGO Gilberto (BRA)</td>\n",
       "      <td>SAUCEDO Ulises (BOL)</td>\n",
       "      <td>RADULESCU Constantin (ROU)</td>\n",
       "      <td>201</td>\n",
       "      <td>1085</td>\n",
       "      <td>ARG</td>\n",
       "      <td>FRA</td>\n",
       "      <td>Home Team Win</td>\n",
       "    </tr>\n",
       "  </tbody>\n",
       "</table>\n",
       "<p>5 rows × 21 columns</p>\n",
       "</div>"
      ],
      "text/plain": [
       "   Year              Datetime    Stage         Stadium         City  \\\n",
       "0  1930  13 Jul 1930 - 15:00   Group 1         Pocitos  Montevideo    \n",
       "1  1930  13 Jul 1930 - 15:00   Group 4  Parque Central  Montevideo    \n",
       "2  1930  14 Jul 1930 - 12:45   Group 2  Parque Central  Montevideo    \n",
       "3  1930  14 Jul 1930 - 14:50   Group 3         Pocitos  Montevideo    \n",
       "4  1930  15 Jul 1930 - 16:00   Group 1  Parque Central  Montevideo    \n",
       "\n",
       "  Home Team Name  Home Team Goals  Away Team Goals Away Team Name  \\\n",
       "0         France                4                1         Mexico   \n",
       "1            USA                3                0        Belgium   \n",
       "2     Yugoslavia                2                1         Brazil   \n",
       "3        Romania                3                1           Peru   \n",
       "4      Argentina                1                0         France   \n",
       "\n",
       "  Win conditions  ...  Half-time Home Goals  Half-time Away Goals  \\\n",
       "0                 ...                     3                     0   \n",
       "1                 ...                     2                     0   \n",
       "2                 ...                     2                     0   \n",
       "3                 ...                     1                     0   \n",
       "4                 ...                     0                     0   \n",
       "\n",
       "                  Referee               Assistant 1  \\\n",
       "0  LOMBARDI Domingo (URU)     CRISTOPHE Henry (BEL)   \n",
       "1       MACIAS Jose (ARG)  MATEUCCI Francisco (URU)   \n",
       "2     TEJADA Anibal (URU)   VALLARINO Ricardo (URU)   \n",
       "3   WARNKEN Alberto (CHI)       LANGENUS Jean (BEL)   \n",
       "4     REGO Gilberto (BRA)      SAUCEDO Ulises (BOL)   \n",
       "\n",
       "                  Assistant 2 RoundID  MatchID  Home Team Initials  \\\n",
       "0         REGO Gilberto (BRA)     201     1096                 FRA   \n",
       "1       WARNKEN Alberto (CHI)     201     1090                 USA   \n",
       "2         BALWAY Thomas (FRA)     201     1093                 YUG   \n",
       "3    MATEUCCI Francisco (URU)     201     1098                 ROU   \n",
       "4  RADULESCU Constantin (ROU)     201     1085                 ARG   \n",
       "\n",
       "  Away Team Initials        outcome  \n",
       "0                MEX  Home Team Win  \n",
       "1                BEL  Home Team Win  \n",
       "2                BRA  Home Team Win  \n",
       "3                PER  Home Team Win  \n",
       "4                FRA  Home Team Win  \n",
       "\n",
       "[5 rows x 21 columns]"
      ]
     },
     "execution_count": 63,
     "metadata": {},
     "output_type": "execute_result"
    }
   ],
   "source": [
    "matches.head()"
   ]
  },
  {
   "cell_type": "code",
   "execution_count": 66,
   "id": "8825172f",
   "metadata": {},
   "outputs": [
    {
     "data": {
      "text/plain": [
       "Home Team Win    479\n",
       "DRAW             186\n",
       "Away Team Win    171\n",
       "Name: outcome, dtype: int64"
      ]
     },
     "execution_count": 66,
     "metadata": {},
     "output_type": "execute_result"
    }
   ],
   "source": [
    "matches['outcome'].value_counts()"
   ]
  },
  {
   "cell_type": "code",
   "execution_count": 94,
   "id": "e002d7f1",
   "metadata": {},
   "outputs": [],
   "source": [
    "labels=['Home Team Win','Away Team Win','DRAW' ]\n",
    "sizes=[479,171,186]"
   ]
  },
  {
   "cell_type": "code",
   "execution_count": 100,
   "id": "97e919d3",
   "metadata": {},
   "outputs": [
    {
     "data": {
      "image/png": "[encoded data removed]",
      "text/plain": [
       "<Figure size 640x480 with 1 Axes>"
      ]
     },
     "metadata": {},
     "output_type": "display_data"
    }
   ],
   "source": [
    "plt.pie(sizes, labels=labels, autopct='%1.1f%%', startangle=140)\n",
    "plt.title('Match Outcomes')\n",
    "plt.show()"
   ]
  },
  {
   "cell_type": "markdown",
   "id": "90e00331",
   "metadata": {},
   "source": [
    "# Stadium with Highest Average Attendance"
   ]
  },
  {
   "cell_type": "code",
   "execution_count": 86,
   "id": "cd4a1a9e",
   "metadata": {},
   "outputs": [],
   "source": [
    "average_attendance = matches.groupby(['Stadium', 'City'])['Attendance'].mean()"
   ]
  },
  {
   "cell_type": "code",
   "execution_count": 87,
   "id": "6902f1a4",
   "metadata": {},
   "outputs": [],
   "source": [
    "highest_avg_attendance_stadium = average_attendance.idxmax()\n",
    "highest_avg_attendance_value = average_attendance.max()"
   ]
  },
  {
   "cell_type": "code",
   "execution_count": 88,
   "id": "7637fd12",
   "metadata": {},
   "outputs": [
    {
     "data": {
      "text/plain": [
       "Stadium                                    City                \n",
       "Maracan� - Est�dio Jornalista M�rio Filho  Rio De Janeiro          101692.625000\n",
       "Estadio Azteca                             Mexico City             100923.684211\n",
       "Rose Bowl                                  Los Angeles              92600.875000\n",
       "Wembley Stadium                            London                   86448.222222\n",
       "Soccer City Stadium                        Johannesburg             83857.375000\n",
       "Santiago Bernabeu                          Madrid                   82522.250000\n",
       "Stanford Stadium                           San Francisco            81737.333333\n",
       "Stade de France                            Saint-Denis              78222.222222\n",
       "Estadio do Maracana                        Rio De Janeiro           74169.857143\n",
       "Giants Stadium                             New York/New Jersey      73689.714286\n",
       "Name: Attendance, dtype: float64"
      ]
     },
     "execution_count": 88,
     "metadata": {},
     "output_type": "execute_result"
    }
   ],
   "source": [
    "top_10_stadiums = average_attendance.sort_values(ascending=False)\n",
    "top_10_stadiums.head(10)"
   ]
  },
  {
   "cell_type": "code",
   "execution_count": 93,
   "id": "0e5fb249",
   "metadata": {},
   "outputs": [
    {
     "data": {
      "image/png": "[encoded data removed]",
      "text/plain": [
       "<Figure size 1200x800 with 1 Axes>"
      ]
     },
     "metadata": {},
     "output_type": "display_data"
    }
   ],
   "source": [
    "plt.figure(figsize=(12, 8))\n",
    "top_10_stadiums[:11].plot(kind='bar', color='orange')\n",
    "plt.xlabel('Stadium')\n",
    "plt.ylabel('Average Attendance')\n",
    "plt.title('Top 10 Stadiums with Highest Average Attendance')\n",
    "plt.xticks(rotation=90)\n",
    "plt.tight_layout()"
   ]
  },
  {
   "cell_type": "markdown",
   "id": "22bf63f2",
   "metadata": {},
   "source": [
    "Downloading the cleaned dataset for visualizing dashboards"
   ]
  },
  {
   "cell_type": "code",
   "execution_count": 124,
   "id": "db606eb3",
   "metadata": {},
   "outputs": [],
   "source": [
    "matches.to_csv('matches-filtered.csv')"
   ]
  },
  {
   "cell_type": "code",
   "execution_count": 125,
   "id": "3cdc8fd8",
   "metadata": {},
   "outputs": [],
   "source": [
    "players.to_csv('players-filtered.csv')"
   ]
  }
 ],
 "metadata": {
  "kernelspec": {
   "display_name": "Python 3 (ipykernel)",
   "language": "python",
   "name": "python3"
  },
  "language_info": {
   "codemirror_mode": {
    "name": "ipython",
    "version": 3
   },
   "file_extension": ".py",
   "mimetype": "text/x-python",
   "name": "python",
   "nbconvert_exporter": "python",
   "pygments_lexer": "ipython3",
   "version": "3.9.13"
  }
 },
 "nbformat": 4,
 "nbformat_minor": 5
}
